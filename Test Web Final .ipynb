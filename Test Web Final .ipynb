{
 "cells": [
  {
   "cell_type": "markdown",
   "id": "32255972",
   "metadata": {},
   "source": [
    "# FOR TRAFFIC WEB"
   ]
  },
  {
   "cell_type": "code",
   "execution_count": 8,
   "id": "44353148",
   "metadata": {},
   "outputs": [
    {
     "data": {
      "text/html": [
       "<div>\n",
       "<style scoped>\n",
       "    .dataframe tbody tr th:only-of-type {\n",
       "        vertical-align: middle;\n",
       "    }\n",
       "\n",
       "    .dataframe tbody tr th {\n",
       "        vertical-align: top;\n",
       "    }\n",
       "\n",
       "    .dataframe thead th {\n",
       "        text-align: right;\n",
       "    }\n",
       "</style>\n",
       "<table border=\"1\" class=\"dataframe\">\n",
       "  <thead>\n",
       "    <tr style=\"text-align: right;\">\n",
       "      <th></th>\n",
       "      <th>direction_of_travel</th>\n",
       "      <th>hour</th>\n",
       "      <th>region_name</th>\n",
       "      <th>local_authority_name</th>\n",
       "      <th>road_name</th>\n",
       "      <th>road_type</th>\n",
       "      <th>congestion_level</th>\n",
       "    </tr>\n",
       "  </thead>\n",
       "  <tbody>\n",
       "    <tr>\n",
       "      <th>0</th>\n",
       "      <td>N</td>\n",
       "      <td>7</td>\n",
       "      <td>London</td>\n",
       "      <td>Brent</td>\n",
       "      <td>A4088</td>\n",
       "      <td>Major</td>\n",
       "      <td>congested</td>\n",
       "    </tr>\n",
       "    <tr>\n",
       "      <th>1</th>\n",
       "      <td>N</td>\n",
       "      <td>8</td>\n",
       "      <td>London</td>\n",
       "      <td>Brent</td>\n",
       "      <td>A4088</td>\n",
       "      <td>Major</td>\n",
       "      <td>congested</td>\n",
       "    </tr>\n",
       "    <tr>\n",
       "      <th>2</th>\n",
       "      <td>N</td>\n",
       "      <td>9</td>\n",
       "      <td>London</td>\n",
       "      <td>Brent</td>\n",
       "      <td>A4088</td>\n",
       "      <td>Major</td>\n",
       "      <td>congested</td>\n",
       "    </tr>\n",
       "    <tr>\n",
       "      <th>3</th>\n",
       "      <td>N</td>\n",
       "      <td>10</td>\n",
       "      <td>London</td>\n",
       "      <td>Brent</td>\n",
       "      <td>A4088</td>\n",
       "      <td>Major</td>\n",
       "      <td>congested</td>\n",
       "    </tr>\n",
       "    <tr>\n",
       "      <th>4</th>\n",
       "      <td>N</td>\n",
       "      <td>11</td>\n",
       "      <td>London</td>\n",
       "      <td>Brent</td>\n",
       "      <td>A4088</td>\n",
       "      <td>Major</td>\n",
       "      <td>congested</td>\n",
       "    </tr>\n",
       "  </tbody>\n",
       "</table>\n",
       "</div>"
      ],
      "text/plain": [
       "  direction_of_travel  hour region_name local_authority_name road_name  \\\n",
       "0                   N     7      London                Brent     A4088   \n",
       "1                   N     8      London                Brent     A4088   \n",
       "2                   N     9      London                Brent     A4088   \n",
       "3                   N    10      London                Brent     A4088   \n",
       "4                   N    11      London                Brent     A4088   \n",
       "\n",
       "  road_type congestion_level  \n",
       "0     Major        congested  \n",
       "1     Major        congested  \n",
       "2     Major        congested  \n",
       "3     Major        congested  \n",
       "4     Major        congested  "
      ]
     },
     "execution_count": 8,
     "metadata": {},
     "output_type": "execute_result"
    }
   ],
   "source": [
    "import pandas as pd\n",
    "framingham = pd.read_csv('cleaned_data_for_web_2.csv')# Dropping null values\n",
    "framingham = framingham.dropna()\n",
    "framingham.head()"
   ]
  },
  {
   "cell_type": "code",
   "execution_count": 9,
   "id": "b8e4b807",
   "metadata": {},
   "outputs": [
    {
     "name": "stdout",
     "output_type": "stream",
     "text": [
      "   direction_of_travel  hour  region_name  local_authority_name  road_name  \\\n",
      "0                    1     7            0                     3        198   \n",
      "1                    1     8            0                     3        198   \n",
      "2                    1     9            0                     3        198   \n",
      "3                    1    10            0                     3        198   \n",
      "4                    1    11            0                     3        198   \n",
      "\n",
      "   road_type  congestion_level  \n",
      "0          0                 1  \n",
      "1          0                 1  \n",
      "2          0                 1  \n",
      "3          0                 1  \n",
      "4          0                 1  \n"
     ]
    }
   ],
   "source": [
    "import pandas as pd\n",
    "from sklearn.preprocessing import LabelEncoder\n",
    "\n",
    "# Assuming 'data' is your DataFrame and it's already loaded\n",
    "data = pd.read_csv('cleaned_data_for_web_2.csv')  # Replace with your actual file path\n",
    "\n",
    "# Initialize label encoders\n",
    "label_encoder = LabelEncoder()\n",
    "\n",
    "# List of columns to encode\n",
    "columns_to_encode = ['direction_of_travel',  'region_name', 'local_authority_name', 'road_name', 'road_type', 'congestion_level']\n",
    "\n",
    "# Apply label encoding to each column\n",
    "for column in columns_to_encode:\n",
    "    data[column] = label_encoder.fit_transform(data[column])\n",
    "\n",
    "# Now your 'data' DataFrame has all the categorical columns encoded\n",
    "print(data.head())\n",
    "\n",
    "# Optionally, save the transformed data to a new CSV file\n",
    "data.to_csv('encoded_cleaned_data_for_web_2.csv', index=False)\n"
   ]
  },
  {
   "cell_type": "code",
   "execution_count": 10,
   "id": "34ae0aad",
   "metadata": {},
   "outputs": [
    {
     "name": "stdout",
     "output_type": "stream",
     "text": [
      "   direction_of_travel  hour  region_name  local_authority_name  road_name  \\\n",
      "0                    1     7            0                     3        198   \n",
      "1                    1     8            0                     3        198   \n",
      "2                    1     9            0                     3        198   \n",
      "3                    1    10            0                     3        198   \n",
      "4                    1    11            0                     3        198   \n",
      "\n",
      "   road_type  congestion_level  \n",
      "0          0                 1  \n",
      "1          0                 1  \n",
      "2          0                 1  \n",
      "3          0                 1  \n",
      "4          0                 1  \n",
      "Mapping for direction_of_travel: {'E': 0, 'N': 1, 'S': 2, 'W': 3}\n",
      "Mapping for region_name: {'London': 0}\n",
      "Mapping for local_authority_name: {'Barking and Dagenham': 0, 'Barnet': 1, 'Bexley': 2, 'Brent': 3, 'Bromley': 4, 'Camden': 5, 'City of London': 6, 'Croydon': 7, 'Ealing': 8, 'Enfield': 9, 'Greenwich': 10, 'Hackney': 11, 'Hammersmith and Fulham': 12, 'Haringey': 13, 'Harrow': 14, 'Havering': 15, 'Hillingdon': 16, 'Hounslow': 17, 'Islington': 18, 'Kensington and Chelsea': 19, 'Kingston upon Thames': 20, 'Lambeth': 21, 'Lewisham': 22, 'Merton': 23, 'Newham': 24, 'Redbridge': 25, 'Richmond upon Thames': 26, 'Southwark': 27, 'Sutton': 28, 'Tower Hamlets': 29, 'Waltham Forest': 30, 'Wandsworth': 31, 'Westminster': 32}\n",
      "Mapping for road_name: {'A1': 0, 'A10': 1, 'A100': 2, 'A1000': 3, 'A1003': 4, 'A1004': 5, 'A1005': 6, 'A1006': 7, 'A1008': 8, 'A1009': 9, 'A101': 10, 'A1010': 11, 'A1011': 12, 'A102': 13, 'A1020': 14, 'A103': 15, 'A1037': 16, 'A104': 17, 'A105': 18, 'A1055': 19, 'A106': 20, 'A1069': 21, 'A107': 22, 'A1080': 23, 'A1081': 24, 'A1083': 25, 'A109': 26, 'A11': 27, 'A110': 28, 'A111': 29, 'A1110': 30, 'A1112': 31, 'A112': 32, 'A113': 33, 'A114': 34, 'A115': 35, 'A1153': 36, 'A116': 37, 'A117': 38, 'A118': 39, 'A1199': 40, 'A12': 41, 'A1200': 42, 'A1201': 43, 'A1202': 44, 'A1203': 45, 'A1205': 46, 'A1206': 47, 'A1207': 48, 'A1208': 49, 'A1209': 50, 'A1210': 51, 'A1211': 52, 'A123': 53, 'A124': 54, 'A1240': 55, 'A125': 56, 'A1251': 57, 'A1261': 58, 'A1263': 59, 'A127': 60, 'A13': 61, 'A1306': 62, 'A1400': 63, 'A2': 64, 'A20': 65, 'A200': 66, 'A2000': 67, 'A2001': 68, 'A201': 69, 'A2015': 70, 'A2016': 71, 'A2018': 72, 'A202': 73, 'A2022': 74, 'A203': 75, 'A2039': 76, 'A204': 77, 'A2041': 78, 'A2043': 79, 'A205': 80, 'A206': 81, 'A207': 82, 'A208': 83, 'A209': 84, 'A21': 85, 'A210': 86, 'A211': 87, 'A212': 88, 'A213': 89, 'A214': 90, 'A215': 91, 'A216': 92, 'A217': 93, 'A218': 94, 'A219': 95, 'A2198': 96, 'A2199': 97, 'A22': 98, 'A220': 99, 'A2203': 100, 'A2205': 101, 'A2206': 102, 'A2208': 103, 'A2209': 104, 'A221': 105, 'A2210': 106, 'A2211': 107, 'A2212': 108, 'A2213': 109, 'A2214': 110, 'A2215': 111, 'A2216': 112, 'A2217': 113, 'A2218': 114, 'A222': 115, 'A223': 116, 'A224': 117, 'A23': 118, 'A232': 119, 'A233': 120, 'A234': 121, 'A235': 122, 'A236': 123, 'A237': 124, 'A238': 125, 'A239': 126, 'A24': 127, 'A240': 128, 'A243': 129, 'A244': 130, 'A297': 131, 'A298': 132, 'A3': 133, 'A30': 134, 'A300': 135, 'A3000': 136, 'A3002': 137, 'A3003': 138, 'A3004': 139, 'A3005': 140, 'A3006': 141, 'A3008': 142, 'A301': 143, 'A302': 144, 'A3031': 145, 'A3036': 146, 'A304': 147, 'A3044': 148, 'A305': 149, 'A306': 150, 'A3063': 151, 'A307': 152, 'A308': 153, 'A309': 154, 'A310': 155, 'A311': 156, 'A3113': 157, 'A312': 158, 'A313': 159, 'A314': 160, 'A315': 161, 'A316': 162, 'A3200': 163, 'A3201': 164, 'A3202': 165, 'A3203': 166, 'A3204': 167, 'A3205': 168, 'A3207': 169, 'A3209': 170, 'A3210': 171, 'A3211': 172, 'A3212': 173, 'A3213': 174, 'A3214': 175, 'A3216': 176, 'A3217': 177, 'A3218': 178, 'A3219': 179, 'A3220': 180, 'A4': 181, 'A40': 182, 'A400': 183, 'A4000': 184, 'A4001': 185, 'A4003': 186, 'A4005': 187, 'A4006': 188, 'A4007': 189, 'A4008': 190, 'A401': 191, 'A402': 192, 'A4020': 193, 'A404': 194, 'A406': 195, 'A407': 196, 'A408': 197, 'A4088': 198, 'A4089': 199, 'A409': 200, 'A4090': 201, 'A41': 202, 'A410': 203, 'A411': 204, 'A4125': 205, 'A4127': 206, 'A4140': 207, 'A4180': 208, 'A4200': 209, 'A4201': 210, 'A4202': 211, 'A4204': 212, 'A4205': 213, 'A4206': 214, 'A4207': 215, 'A4208': 216, 'A4209': 217, 'A437': 218, 'A4380': 219, 'A5': 220, 'A5000': 221, 'A501': 222, 'A502': 223, 'A503': 224, 'A504': 225, 'A5100': 226, 'A5109': 227, 'A5135': 228, 'A5150': 229, 'A5200': 230, 'A5201': 231, 'A5202': 232, 'A5203': 233, 'A5204': 234, 'A5205': 235, 'A598': 236, 'B100': 237, 'B104': 238, 'B106': 239, 'B108': 240, 'B109': 241, 'B111': 242, 'B114': 243, 'B116': 244, 'B118': 245, 'B119': 246, 'B121': 247, 'B126': 248, 'B1335': 249, 'B135': 250, 'B137': 251, 'B138': 252, 'B140': 253, 'B142': 254, 'B1421': 255, 'B144': 256, 'B1452': 257, 'B1453': 258, 'B1461': 259, 'B153': 260, 'B154': 261, 'B160': 262, 'B161': 263, 'B165': 264, 'B168': 265, 'B174': 266, 'B175': 267, 'B177': 268, 'B179': 269, 'B186': 270, 'B187': 271, 'B191': 272, 'B192': 273, 'B193': 274, 'B2030': 275, 'B2032': 276, 'B207': 277, 'B208': 278, 'B210': 279, 'B212': 280, 'B213': 281, 'B214': 282, 'B215': 283, 'B2158': 284, 'B216': 285, 'B2173': 286, 'B218': 287, 'B219': 288, 'B221': 289, 'B2212': 290, 'B222': 291, 'B2230': 292, 'B224': 293, 'B228': 294, 'B229': 295, 'B230': 296, 'B232': 297, 'B234': 298, 'B235': 299, 'B236': 300, 'B237': 301, 'B238': 302, 'B241': 303, 'B242': 304, 'B243': 305, 'B251': 306, 'B252': 307, 'B258': 308, 'B263': 309, 'B265': 310, 'B266': 311, 'B271': 312, 'B272': 313, 'B273': 314, 'B275': 315, 'B276': 316, 'B277': 317, 'B278': 318, 'B279': 319, 'B280': 320, 'B281': 321, 'B282': 322, 'B283': 323, 'B3003': 324, 'B302': 325, 'B304': 326, 'B306': 327, 'B310': 328, 'B317': 329, 'B319': 330, 'B321': 331, 'B323': 332, 'B324': 333, 'B326': 334, 'B3364': 335, 'B349': 336, 'B350': 337, 'B351': 338, 'B352': 339, 'B353': 340, 'B358': 341, 'B361': 342, 'B363': 343, 'B377': 344, 'B400': 345, 'B402': 346, 'B406': 347, 'B408': 348, 'B409': 349, 'B412': 350, 'B413': 351, 'B414': 352, 'B4491': 353, 'B4492': 354, 'B451': 355, 'B452': 356, 'B453': 357, 'B454': 358, 'B455': 359, 'B4557': 360, 'B456': 361, 'B461': 362, 'B465': 363, 'B466': 364, 'B467': 365, 'B469': 366, 'B472': 367, 'B483': 368, 'B501': 369, 'B502': 370, 'B506': 371, 'B507': 372, 'B509': 373, 'B510': 374, 'B511': 375, 'B515': 376, 'B517': 377, 'B519': 378, 'B521': 379, 'B550': 380, 'B552': 381, 'C': 382, 'M1': 383, 'M11': 384, 'M25': 385, 'M4': 386, 'M41': 387, 'U': 388}\n",
      "Mapping for road_type: {'Major': 0, 'Minor': 1}\n",
      "Mapping for congestion_level: {'blockage': 0, 'congested': 1, 'highly_congested': 2, 'slightly_congested': 3, 'smooth': 4}\n"
     ]
    }
   ],
   "source": [
    "import pandas as pd\n",
    "from sklearn.preprocessing import LabelEncoder\n",
    "\n",
    "# Load your dataset\n",
    "data = pd.read_csv('cleaned_data_for_web_2.csv')  # Replace with your actual file path\n",
    "\n",
    "# Initialize label encoders\n",
    "label_encoder = LabelEncoder()\n",
    "\n",
    "# List of columns to encode\n",
    "columns_to_encode = ['direction_of_travel',  'region_name', 'local_authority_name', 'road_name', 'road_type', 'congestion_level']\n",
    "\n",
    "# Dictionary to keep the mappings\n",
    "label_mappings = {}\n",
    "\n",
    "# Apply label encoding to each column\n",
    "for column in columns_to_encode:\n",
    "    data[column] = label_encoder.fit_transform(data[column])\n",
    "    # Store the mappings for this column\n",
    "    label_mappings[column] = dict(zip(label_encoder.classes_, label_encoder.transform(label_encoder.classes_)))\n",
    "\n",
    "# Print the first few rows of the dataframe to check the encoded values\n",
    "print(data.head())\n",
    "\n",
    "# Print the mappings\n",
    "for column, mapping in label_mappings.items():\n",
    "    print(f\"Mapping for {column}: {mapping}\")\n",
    "\n",
    "\n"
   ]
  },
  {
   "cell_type": "code",
   "execution_count": 11,
   "id": "332ab477",
   "metadata": {},
   "outputs": [
    {
     "data": {
      "text/html": [
       "<div>\n",
       "<style scoped>\n",
       "    .dataframe tbody tr th:only-of-type {\n",
       "        vertical-align: middle;\n",
       "    }\n",
       "\n",
       "    .dataframe tbody tr th {\n",
       "        vertical-align: top;\n",
       "    }\n",
       "\n",
       "    .dataframe thead th {\n",
       "        text-align: right;\n",
       "    }\n",
       "</style>\n",
       "<table border=\"1\" class=\"dataframe\">\n",
       "  <thead>\n",
       "    <tr style=\"text-align: right;\">\n",
       "      <th></th>\n",
       "      <th>direction_of_travel</th>\n",
       "      <th>hour</th>\n",
       "      <th>region_name</th>\n",
       "      <th>local_authority_name</th>\n",
       "      <th>road_name</th>\n",
       "      <th>road_type</th>\n",
       "      <th>congestion_level</th>\n",
       "    </tr>\n",
       "  </thead>\n",
       "  <tbody>\n",
       "    <tr>\n",
       "      <th>0</th>\n",
       "      <td>1</td>\n",
       "      <td>7</td>\n",
       "      <td>0</td>\n",
       "      <td>3</td>\n",
       "      <td>198</td>\n",
       "      <td>0</td>\n",
       "      <td>1</td>\n",
       "    </tr>\n",
       "    <tr>\n",
       "      <th>1</th>\n",
       "      <td>1</td>\n",
       "      <td>8</td>\n",
       "      <td>0</td>\n",
       "      <td>3</td>\n",
       "      <td>198</td>\n",
       "      <td>0</td>\n",
       "      <td>1</td>\n",
       "    </tr>\n",
       "    <tr>\n",
       "      <th>2</th>\n",
       "      <td>1</td>\n",
       "      <td>9</td>\n",
       "      <td>0</td>\n",
       "      <td>3</td>\n",
       "      <td>198</td>\n",
       "      <td>0</td>\n",
       "      <td>1</td>\n",
       "    </tr>\n",
       "    <tr>\n",
       "      <th>3</th>\n",
       "      <td>1</td>\n",
       "      <td>10</td>\n",
       "      <td>0</td>\n",
       "      <td>3</td>\n",
       "      <td>198</td>\n",
       "      <td>0</td>\n",
       "      <td>1</td>\n",
       "    </tr>\n",
       "    <tr>\n",
       "      <th>4</th>\n",
       "      <td>1</td>\n",
       "      <td>11</td>\n",
       "      <td>0</td>\n",
       "      <td>3</td>\n",
       "      <td>198</td>\n",
       "      <td>0</td>\n",
       "      <td>1</td>\n",
       "    </tr>\n",
       "  </tbody>\n",
       "</table>\n",
       "</div>"
      ],
      "text/plain": [
       "   direction_of_travel  hour  region_name  local_authority_name  road_name  \\\n",
       "0                    1     7            0                     3        198   \n",
       "1                    1     8            0                     3        198   \n",
       "2                    1     9            0                     3        198   \n",
       "3                    1    10            0                     3        198   \n",
       "4                    1    11            0                     3        198   \n",
       "\n",
       "   road_type  congestion_level  \n",
       "0          0                 1  \n",
       "1          0                 1  \n",
       "2          0                 1  \n",
       "3          0                 1  \n",
       "4          0                 1  "
      ]
     },
     "execution_count": 11,
     "metadata": {},
     "output_type": "execute_result"
    }
   ],
   "source": [
    "import pandas as pd\n",
    "framingham = pd.read_csv('encoded_cleaned_data_for_web_2.csv')# Dropping null values\n",
    "framingham = framingham.dropna()\n",
    "framingham.head()"
   ]
  },
  {
   "cell_type": "code",
   "execution_count": 12,
   "id": "4347c936",
   "metadata": {},
   "outputs": [
    {
     "data": {
      "text/plain": [
       "4    98616\n",
       "1    98340\n",
       "3    98268\n",
       "2    51276\n",
       "0    47088\n",
       "Name: congestion_level, dtype: int64"
      ]
     },
     "execution_count": 12,
     "metadata": {},
     "output_type": "execute_result"
    }
   ],
   "source": [
    "framingham['congestion_level'].value_counts()"
   ]
  },
  {
   "cell_type": "code",
   "execution_count": 13,
   "id": "6da5062a",
   "metadata": {},
   "outputs": [
    {
     "name": "stdout",
     "output_type": "stream",
     "text": [
      "Accuracy: 0.6826392946975279\n"
     ]
    },
    {
     "data": {
      "text/plain": [
       "['traffic_congestion_model.pkl']"
      ]
     },
     "execution_count": 13,
     "metadata": {},
     "output_type": "execute_result"
    }
   ],
   "source": [
    "import pandas as pd\n",
    "from sklearn.model_selection import train_test_split\n",
    "from imblearn.over_sampling import RandomOverSampler\n",
    "from sklearn.ensemble import RandomForestClassifier\n",
    "from sklearn.metrics import accuracy_score\n",
    "import joblib\n",
    "\n",
    "# Load and prepare your data\n",
    "data = pd.read_csv('encoded_cleaned_data_for_web_2.csv')  # Replace with your actual file path\n",
    "X = data.drop('congestion_level', axis=1)  # Replace with your actual features\n",
    "y = data['congestion_level']  # Replace with your actual target variable\n",
    "\n",
    "# Split the data - 80% for training, 20% for testing\n",
    "X_train, X_test, y_train, y_test = train_test_split(X, y, test_size=0.20, random_state=42)\n",
    "\n",
    "# Apply oversampling to balance the dataset\n",
    "oversample = RandomOverSampler(sampling_strategy='minority')\n",
    "X_over, y_over = oversample.fit_resample(X_train, y_train)\n",
    "\n",
    "# Initialize and train the RandomForestClassifier\n",
    "rf = RandomForestClassifier(n_estimators=100, random_state=42)\n",
    "rf.fit(X_over, y_over)\n",
    "\n",
    "# Make predictions and evaluate the model\n",
    "preds = rf.predict(X_test)\n",
    "print(\"Accuracy:\", accuracy_score(y_test, preds))\n",
    "\n",
    "# Save the model to a file for later use\n",
    "joblib.dump(rf, 'traffic_congestion_model.pkl')\n"
   ]
  },
  {
   "cell_type": "code",
   "execution_count": null,
   "id": "0ee2ea3a",
   "metadata": {},
   "outputs": [],
   "source": []
  }
 ],
 "metadata": {
  "kernelspec": {
   "display_name": "Python 3 (ipykernel)",
   "language": "python",
   "name": "python3"
  },
  "language_info": {
   "codemirror_mode": {
    "name": "ipython",
    "version": 3
   },
   "file_extension": ".py",
   "mimetype": "text/x-python",
   "name": "python",
   "nbconvert_exporter": "python",
   "pygments_lexer": "ipython3",
   "version": "3.9.13"
  }
 },
 "nbformat": 4,
 "nbformat_minor": 5
}
